{
 "cells": [
  {
   "cell_type": "code",
   "execution_count": 1,
   "metadata": {},
   "outputs": [],
   "source": [
    "from mmdet.apis import init_detector, inference_detector, show_result_pyplot\n",
    "import torch\n",
    "import mmcv\n",
    "import numpy as np"
   ]
  },
  {
   "cell_type": "code",
   "execution_count": 3,
   "metadata": {},
   "outputs": [],
   "source": [
    "config_file = '../work_dir/tct/fcos_r50_caffe_fpn_gn-head_4x4_1x_tct-0529/fcos_r50_caffe_fpn_gn-head_4x4_1x_tct.py'\n",
    "checkpoint_file = '../work_dir/tct/fcos_r50_caffe_fpn_gn-head_4x4_1x_tct-0529/latest.pth'"
   ]
  },
  {
   "cell_type": "code",
   "execution_count": 4,
   "metadata": {},
   "outputs": [],
   "source": [
    "# build the model from a config file and a checkpoint file\n",
    "model = init_detector(config_file, checkpoint_file, device='cuda:0')"
   ]
  },
  {
   "cell_type": "code",
   "execution_count": 5,
   "metadata": {},
   "outputs": [],
   "source": [
    "img_list = [\n",
    "    '../data/coco/TCT_JPEGImages/train30000/tct_val11378.jpg',\n",
    "    '../data/coco/TCT_JPEGImages/train30000/tct_val26876.jpg',\n",
    "    '../data/coco/TCT_JPEGImages/train30000/tct_val13077.jpg',\n",
    "\n",
    "    '../data/coco/TCT_JPEGImages/train30000/tct_val11763.jpg',   # !!!\n",
    "    '../data/coco/TCT_JPEGImages/train30000/tct_val11748.jpg',\n",
    "    '../data/coco/TCT_JPEGImages/train30000/tct_val26100.jpg',\n",
    "    '../data/coco/TCT_JPEGImages/train30000/tct_val29820.jpg',\n",
    "    '../data/coco/TCT_JPEGImages/train30000/tct_val07606.jpg',\n",
    "    '../data/coco/TCT_JPEGImages/train30000/tct_val11655.jpg',\n",
    "    '../data/coco/TCT_JPEGImages/train30000/tct_val06169.jpg',    # !!!\n",
    "\n",
    "    '../data/coco/TCT_JPEGImages/train30000/tct_val11361.jpg', # f > p\n",
    "    '../data/coco/TCT_JPEGImages/train30000/tct_val00127.jpg']\n"
   ]
  },
  {
   "cell_type": "code",
   "execution_count": 15,
   "metadata": {},
   "outputs": [
    {
     "name": "stdout",
     "output_type": "stream",
     "text": [
      "torch.Size([100, 148])\n"
     ]
    }
   ],
   "source": [
    "result_list = inference_detector(model, img_list)\n",
    "tesnor_list = result_list[1][::-1]\n",
    "print(tesnor_list[4].shape[-2:])"
   ]
  },
  {
   "cell_type": "code",
   "execution_count": 7,
   "metadata": {},
   "outputs": [],
   "source": [
    "for i in range(1,len(tesnor_list)):\n",
    "    upsam = torch.nn.Upsample(size=tesnor_list[i].shape[-2:], mode='nearest')\n",
    "    up_tensor = upsam(tesnor_list[i-1])\n",
    "    tesnor_list[i] += up_tensor"
   ]
  },
  {
   "cell_type": "code",
   "execution_count": 8,
   "metadata": {},
   "outputs": [],
   "source": [
    "final_tensor = tesnor_list[-1]\n",
    "torch.save(final_tensor, 'tensor.pt')"
   ]
  },
  {
   "cell_type": "code",
   "execution_count": 9,
   "metadata": {},
   "outputs": [
    {
     "data": {
      "text/plain": [
       "torch.Size([12, 10, 100, 148])"
      ]
     },
     "execution_count": 9,
     "metadata": {},
     "output_type": "execute_result"
    }
   ],
   "source": [
    "final_tensor.shape"
   ]
  }
 ],
 "metadata": {
  "kernelspec": {
   "display_name": "open-mmlab",
   "language": "python",
   "name": "open-mmlab"
  },
  "language_info": {
   "codemirror_mode": {
    "name": "ipython",
    "version": 3
   },
   "file_extension": ".py",
   "mimetype": "text/x-python",
   "name": "python",
   "nbconvert_exporter": "python",
   "pygments_lexer": "ipython3",
   "version": "3.7.9"
  },
  "pycharm": {
   "stem_cell": {
    "cell_type": "raw",
    "metadata": {
     "collapsed": false
    },
    "source": []
   }
  }
 },
 "nbformat": 4,
 "nbformat_minor": 4
}
